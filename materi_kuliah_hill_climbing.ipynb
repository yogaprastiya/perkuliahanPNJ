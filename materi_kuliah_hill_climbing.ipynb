{
  "nbformat": 4,
  "nbformat_minor": 0,
  "metadata": {
    "colab": {
      "name": "materi kuliah hill climbing.ipynb",
      "provenance": [],
      "authorship_tag": "ABX9TyMBMPHSf3FJzZ7uiY77hSkM",
      "include_colab_link": true
    },
    "kernelspec": {
      "name": "python3",
      "display_name": "Python 3"
    },
    "language_info": {
      "name": "python"
    }
  },
  "cells": [
    {
      "cell_type": "markdown",
      "metadata": {
        "id": "view-in-github",
        "colab_type": "text"
      },
      "source": [
        "<a href=\"https://colab.research.google.com/github/yogaprastiya/perkuliahanPNJ/blob/main/materi_kuliah_hill_climbing.ipynb\" target=\"_parent\"><img src=\"https://colab.research.google.com/assets/colab-badge.svg\" alt=\"Open In Colab\"/></a>"
      ]
    },
    {
      "cell_type": "code",
      "source": [
        "import random\n",
        "\n",
        "def randomSolution(tsp):\n",
        "    cities = list(range(len(tsp)))\n",
        "    solution = []\n",
        "\n",
        "    for i in range(len(tsp)):\n",
        "        randomCity = cities[random.randint(0, len(cities) - 1)]\n",
        "        solution.append(randomCity)\n",
        "        cities.remove(randomCity)\n",
        "\n",
        "    return solution\n",
        "\n",
        "def routeLength(tsp, solution):\n",
        "    routeLength = 0\n",
        "    for i in range(len(solution)):\n",
        "        routeLength += tsp[solution[i - 1]][solution[i]]\n",
        "    return routeLength\n",
        "\n",
        "def getNeighbours(solution):\n",
        "    neighbours = []\n",
        "    for i in range(len(solution)):\n",
        "        for j in range(i + 1, len(solution)):\n",
        "            neighbour = solution.copy()\n",
        "            neighbour[i] = solution[j]\n",
        "            neighbour[j] = solution[i]\n",
        "            neighbours.append(neighbour)\n",
        "    return neighbours\n",
        "\n",
        "def getBestNeighbour(tsp, neighbours):\n",
        "    bestRouteLength = routeLength(tsp, neighbours[0])\n",
        "    bestNeighbour = neighbours[0]\n",
        "    for neighbour in neighbours:\n",
        "        currentRouteLength = routeLength(tsp, neighbour)\n",
        "        if currentRouteLength < bestRouteLength:\n",
        "            bestRouteLength = currentRouteLength\n",
        "            bestNeighbour = neighbour\n",
        "    return bestNeighbour, bestRouteLength\n",
        "\n",
        "def hillClimbing(tsp):\n",
        "    currentSolution = randomSolution(tsp)\n",
        "    currentRouteLength = routeLength(tsp, currentSolution)\n",
        "    neighbours = getNeighbours(currentSolution)\n",
        "    bestNeighbour, bestNeighbourRouteLength = getBestNeighbour(tsp, neighbours)\n",
        "\n",
        "    while bestNeighbourRouteLength < currentRouteLength:\n",
        "        currentSolution = bestNeighbour\n",
        "        currentRouteLength = bestNeighbourRouteLength\n",
        "        neighbours = getNeighbours(currentSolution)\n",
        "        bestNeighbour, bestNeighbourRouteLength = getBestNeighbour(tsp, neighbours)\n",
        "\n",
        "    return currentSolution, currentRouteLength\n",
        "\n",
        "def main():\n",
        "    tsp = [\n",
        "        [0, 400, 500, 300],\n",
        "        [400, 0, 300, 500],\n",
        "        [500, 300, 0, 400],\n",
        "        [300, 500, 400, 0]\n",
        "    ]\n",
        "\n",
        "    print(hillClimbing(tsp))\n",
        "\n",
        "if __name__ == \"__main__\":\n",
        "    main()"
      ],
      "metadata": {
        "colab": {
          "base_uri": "https://localhost:8080/"
        },
        "id": "b1j7Poox94pg",
        "outputId": "6eb41509-d659-42b5-e71e-f380e824d7a5"
      },
      "execution_count": 4,
      "outputs": [
        {
          "output_type": "stream",
          "name": "stdout",
          "text": [
            "([2, 1, 0, 3], 1400)\n"
          ]
        }
      ]
    }
  ]
}