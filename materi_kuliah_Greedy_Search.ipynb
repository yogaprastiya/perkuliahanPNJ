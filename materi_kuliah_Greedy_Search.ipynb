{
  "nbformat": 4,
  "nbformat_minor": 0,
  "metadata": {
    "colab": {
      "name": "materi kuliah Greedy Search.ipynb",
      "provenance": [],
      "authorship_tag": "ABX9TyNt0rhvfvnde8UdNMCJtRS6",
      "include_colab_link": true
    },
    "kernelspec": {
      "name": "python3",
      "display_name": "Python 3"
    },
    "language_info": {
      "name": "python"
    }
  },
  "cells": [
    {
      "cell_type": "markdown",
      "metadata": {
        "id": "view-in-github",
        "colab_type": "text"
      },
      "source": [
        "<a href=\"https://colab.research.google.com/github/yogaprastiya/perkuliahanPNJ/blob/main/materi_kuliah_Greedy_Search.ipynb\" target=\"_parent\"><img src=\"https://colab.research.google.com/assets/colab-badge.svg\" alt=\"Open In Colab\"/></a>"
      ]
    },
    {
      "cell_type": "code",
      "source": [
        "# Greedy Algorithm for a Optimisation Problem\n",
        "\n",
        "# Defined a class for item, \n",
        "# with its name, value and cost\n",
        "class Itm(object):\n",
        "    def __init__(self, name, val, cost):\n",
        "        self.name = name\n",
        "        self.val = val\n",
        "        self.cost = cost\n",
        "        \n",
        "    def getvalue(self):\n",
        "        return self.val\n",
        "    \n",
        "    def getcost(self):\n",
        "        return self.cost\n",
        "    \n",
        "    def __str__(self):\n",
        "        return self.name \n",
        "  \n",
        "# Defining a function for building a List \n",
        "# which generates list of items that are \n",
        "# available at supermart   \n",
        "def buildlist(names, values, costs):\n",
        "    menu = []\n",
        "    for i in range(len(names)):\n",
        "        menu.append(Itm(names[i], values[i], costs[i]))\n",
        "    return menu\n",
        "\n",
        "# Implementation of greedy algorithm \n",
        "# to choose one of the optimum choice\n",
        "def greedy(items, maxcal, keyfunction):\n",
        "    itemscopy = sorted(items, key = keyfunction, reverse = True)\n",
        "    \n",
        "    result = []\n",
        "    totalval = 0 \n",
        "    totalcal = 0\n",
        "    \n",
        "    for i in range(len(items)):\n",
        "        if (totalcal + itemscopy[i].getcost() <= maxcal):\n",
        "            result.append(itemscopy[i])\n",
        "            totalval = totalval + itemscopy[i].getvalue()\n",
        "            totalcal = totalcal + itemscopy[i].getcost()\n",
        "            \n",
        "    return (result, totalval)\n",
        "\n",
        "\n",
        "# Main Function\n",
        "# All values are random    \n",
        "names = ['Ball', 'Gloves', 'Notebook', 'Bagpack', 'Charger', 'Pillow', 'Cakes', 'Pencil']\n",
        "values = [89,90,95,100,90,79,50,10]\n",
        "costs = [123,154,25,145,365,150,95,195]\n",
        "Itemrs = buildlist(names, values, costs)\n",
        "maxcost = 500 # maximum money he have to spend\n",
        "\n",
        "taken, totvalue = greedy(Itemrs, maxcost, Itm.getvalue)\n",
        "\n",
        "print('Total vaule taken : ', totvalue)\n",
        "\n",
        "# Printing the list of item slected for optimum value\n",
        "for i in range(len(taken)):\n",
        "    print('  ', taken[i])\n"
      ],
      "metadata": {
        "colab": {
          "base_uri": "https://localhost:8080/"
        },
        "id": "SdJ8Bq6y9D95",
        "outputId": "3a7cd2e7-2e6c-4241-8f11-d785c12b8b99"
      },
      "execution_count": 2,
      "outputs": [
        {
          "output_type": "stream",
          "name": "stdout",
          "text": [
            "Total vaule taken :  374\n",
            "   Bagpack\n",
            "   Notebook\n",
            "   Gloves\n",
            "   Ball\n"
          ]
        }
      ]
    }
  ]
}