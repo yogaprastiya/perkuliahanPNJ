{
  "nbformat": 4,
  "nbformat_minor": 0,
  "metadata": {
    "colab": {
      "name": "materi kuliah Uniform-cost search.ipynb",
      "provenance": [],
      "authorship_tag": "ABX9TyOPXXJhgT1201soL/bM6k5B",
      "include_colab_link": true
    },
    "kernelspec": {
      "name": "python3",
      "display_name": "Python 3"
    },
    "language_info": {
      "name": "python"
    }
  },
  "cells": [
    {
      "cell_type": "markdown",
      "metadata": {
        "id": "view-in-github",
        "colab_type": "text"
      },
      "source": [
        "<a href=\"https://colab.research.google.com/github/yogaprastiya/perkuliahanPNJ/blob/main/materi_kuliah_Uniform_cost_search.ipynb\" target=\"_parent\"><img src=\"https://colab.research.google.com/assets/colab-badge.svg\" alt=\"Open In Colab\"/></a>"
      ]
    },
    {
      "cell_type": "markdown",
      "source": [
        "Uniform-cost search\n",
        "\n",
        "Maripada memasukkan semua simpul ke dalam antrian prioritas. Dengan algoritma ini kita hanya perlu menyisipkan sumber, lalu memasukkan satu per satu bila diperlukan. Di setiap langkah, kami memeriksa apakah item sudah dalam antrian prioritas (menggunakan array yang dikunjungi). Jika ya, kami melakukan penurunan kunci, jika tidak, kami memasukkannya.\n",
        "Varian algoritma ini berguna untuk graf tak hingga dan graf yang terlalu besar untuk direpresentasikan dalam memori. Uniform-Cost Search terutama digunakan dalam Artificial Intelligence."
      ],
      "metadata": {
        "id": "mzSL5q3cudnl"
      }
    },
    {
      "cell_type": "code",
      "source": [
        "def  uniform_cost_search(goal, start):\n",
        "     \n",
        "    global graph,biaya\n",
        "    jawaban = []\n",
        " \n",
        "    # buat prioritas antrian\n",
        "    antrian = []\n",
        " \n",
        "    # set vektor jawaban ke nilai maksimum\n",
        "    for i in range(len(goal)):\n",
        "        jawaban.append(10**8)\n",
        " \n",
        "    # masukan indeks awalan/start\n",
        "    antrian.append([0, start])\n",
        " \n",
        "    # petakan untuk node yang dikunjungi\n",
        "    dikunjungi = {}\n",
        " \n",
        "    # cacah\n",
        "    cacah = 0\n",
        " \n",
        "    # jalan jika antrian tidak kong\n",
        "    while (len(antrian) > 0):\n",
        " \n",
        "        # dapatkan elemen atas dari antrian\n",
        "        antrian = sorted(antrian)\n",
        "        p = antrian[-1]\n",
        " \n",
        "        # hapus elemen\n",
        "        del antrian[-1]\n",
        " \n",
        "        # dapatkan nilai original\n",
        "        p[0] *= -1\n",
        " \n",
        "        # periksa apakah elemen adalah bagian dari daftar goal\n",
        "        if (p[1] in goal):\n",
        " \n",
        "            # dapatkan index posisi\n",
        "            index = goal.index(p[1])\n",
        " \n",
        "            # jika goal baru tercapai\n",
        "            if (jawaban[index] == 10**8):\n",
        "                cacah += 1\n",
        " \n",
        "            # jika cost lebih rendah \n",
        "            if (jawaban[index] > p[0]):\n",
        "                jawaban[index] = p[0]\n",
        " \n",
        "            # hapus elemen\n",
        "            del antrian[-1]\n",
        " \n",
        "            antrian = sorted(antrian)\n",
        "            if (cacah == len(goal)):\n",
        "                return jawaban\n",
        " \n",
        "        # periksa untuk node yang tidak dikunjungi\n",
        "        # yang berdampingan dengan node saat ini\n",
        "        if (p[1] not in dikunjungi):\n",
        "            for i in range(len(graph[p[1]])):\n",
        " \n",
        "                antrian.append( [(p[0] + cost[(p[1], graph[p[1]][i])])* -1, graph[p[1]][i]])\n",
        " \n",
        "        # mark as visited\n",
        "        dikunjungi[p[1]] = 1\n",
        " \n",
        "    return jawaban"
      ],
      "metadata": {
        "id": "tybCN-yvvAz-"
      },
      "execution_count": 5,
      "outputs": []
    },
    {
      "cell_type": "code",
      "source": [
        "if __name__ == '__main__':\n",
        "     \n",
        "    # buat graph\n",
        "    graph,cost = [[] for i in range(8)],{}\n",
        " \n",
        "    \n",
        "    graph[0].append(1)\n",
        "    graph[0].append(3)\n",
        "    graph[3].append(1)\n",
        "    graph[3].append(6)\n",
        "    graph[3].append(4)\n",
        "    graph[1].append(6)\n",
        "    graph[4].append(2)\n",
        "    graph[4].append(5)\n",
        "    graph[2].append(1)\n",
        "    graph[5].append(2)\n",
        "    graph[5].append(6)\n",
        "    graph[6].append(4)\n",
        " \n",
        "    # tambahkan cost\n",
        "    cost[(0, 1)] = 2\n",
        "    cost[(0, 3)] = 5\n",
        "    cost[(1, 6)] = 1\n",
        "    cost[(3, 1)] = 5\n",
        "    cost[(3, 6)] = 6\n",
        "    cost[(3, 4)] = 2\n",
        "    cost[(2, 1)] = 4\n",
        "    cost[(4, 2)] = 4\n",
        "    cost[(4, 5)] = 3\n",
        "    cost[(5, 2)] = 6\n",
        "    cost[(5, 6)] = 3\n",
        "    cost[(6, 4)] = 7\n",
        " \n",
        "    # keadaan goal awal\n",
        "    goal = []\n",
        " \n",
        "   \n",
        "    goal.append(6)\n",
        " \n",
        "    # dapatkan jawabab\n",
        "    jawaban = uniform_cost_search(goal, 0)\n",
        " \n",
        "    # print the answer\n",
        "    print(\"Minimum cost dari 0 ke 6 adalah \",jawaban[0])"
      ],
      "metadata": {
        "colab": {
          "base_uri": "https://localhost:8080/"
        },
        "id": "fV1EGkhnxf9n",
        "outputId": "2dbeff4c-49eb-4b97-811b-3a7b7e368e36"
      },
      "execution_count": 6,
      "outputs": [
        {
          "output_type": "stream",
          "name": "stdout",
          "text": [
            "Minimum cost dari 0 ke 6 adalah  3\n"
          ]
        }
      ]
    }
  ]
}